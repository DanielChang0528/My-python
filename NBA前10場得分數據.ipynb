{
 "cells": [
  {
   "cell_type": "code",
   "execution_count": 1,
   "metadata": {},
   "outputs": [],
   "source": [
    "%matplotlib inline\n",
    "import numpy as np\n",
    "import matplotlib.pyplot as plt\n",
    "import pandas as pd"
   ]
  },
  {
   "cell_type": "code",
   "execution_count": 6,
   "metadata": {},
   "outputs": [
    {
     "name": "stdout",
     "output_type": "stream",
     "text": [
      "場次 1 : 得分 28\n",
      "場次 2 : 得分 32\n",
      "場次 5 : 得分 22\n",
      "場次 7 : 得分 30\n",
      "場次 9 : 得分 26\n",
      "場次 10 : 得分 24\n"
     ]
    }
   ],
   "source": [
    "scores=[28,32,13,17,22,18,30,12,26,24]\n",
    "i=1\n",
    "for a in scores:\n",
    "    if a >= 20:\n",
    "        print(\"場次 %d : 得分 %d\"%(i,a))\n",
    "    i+= 1"
   ]
  },
  {
   "cell_type": "code",
   "execution_count": null,
   "metadata": {},
   "outputs": [],
   "source": []
  }
 ],
 "metadata": {
  "kernelspec": {
   "display_name": "Python 3",
   "language": "python",
   "name": "python3"
  },
  "language_info": {
   "codemirror_mode": {
    "name": "ipython",
    "version": 3
   },
   "file_extension": ".py",
   "mimetype": "text/x-python",
   "name": "python",
   "nbconvert_exporter": "python",
   "pygments_lexer": "ipython3",
   "version": "3.7.3"
  }
 },
 "nbformat": 4,
 "nbformat_minor": 2
}
