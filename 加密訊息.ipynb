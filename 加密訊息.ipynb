{
 "cells": [
  {
   "cell_type": "code",
   "execution_count": 5,
   "metadata": {},
   "outputs": [],
   "source": [
    "%matplotlib inline\n",
    "import numpy as np\n",
    "import matplotlib.pyplot as plt\n",
    "import pandas as pd\n",
    "import string"
   ]
  },
  {
   "cell_type": "code",
   "execution_count": 8,
   "metadata": {},
   "outputs": [
    {
     "name": "stdout",
     "output_type": "stream",
     "text": [
      "原始訊息: I have been crushing on you\n",
      "加密後: L2kdyh2ehhq2fuxvklqj2rq2Brx\n"
     ]
    }
   ],
   "source": [
    "def code(text,codedict):\n",
    "    c=[]\n",
    "    for i in text:\n",
    "        v=codedict[i]\n",
    "        c.append(v)\n",
    "    return''.join(c)\n",
    "a=string.printable[:-5]\n",
    "sub=a[-3:]+a[:-3]\n",
    "code_dict=dict(zip(sub,abc))\n",
    "msg=\"I have been crushing on you\"\n",
    "x=code(msg,code_dict)\n",
    "print(\"原始訊息:\",msg)\n",
    "print(\"加密後:\",x)\n"
   ]
  },
  {
   "cell_type": "code",
   "execution_count": null,
   "metadata": {},
   "outputs": [],
   "source": []
  }
 ],
 "metadata": {
  "kernelspec": {
   "display_name": "Python 3",
   "language": "python",
   "name": "python3"
  },
  "language_info": {
   "codemirror_mode": {
    "name": "ipython",
    "version": 3
   },
   "file_extension": ".py",
   "mimetype": "text/x-python",
   "name": "python",
   "nbconvert_exporter": "python",
   "pygments_lexer": "ipython3",
   "version": "3.7.3"
  }
 },
 "nbformat": 4,
 "nbformat_minor": 2
}
