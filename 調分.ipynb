{
 "cells": [
  {
   "cell_type": "code",
   "execution_count": 18,
   "metadata": {},
   "outputs": [
    {
     "name": "stdout",
     "output_type": "stream",
     "text": [
      "調整後成績:75.2\n",
      "調整後成績:76.0\n",
      "調整後成績:69.2\n",
      "調整後成績:82.4\n",
      "調整後成績:87.2\n",
      "原先平均: 45.0\n",
      "調整後平均:78.00\n"
     ]
    }
   ],
   "source": [
    "%matplotlib inline\n",
    "import numpy as np\n",
    "import matplotlib.pyplot as plt\n",
    "import pandas as pd\n",
    "grades=[38,40,23,56,68]\n",
    "new_grades=[]\n",
    "for g in grades:\n",
    "    new_g=g*0.4+60\n",
    "    print(f\"調整後成績:{new_g}\")\n",
    "    new_grades.append(new_g)\n",
    "arr_grades=np.array(grades)\n",
    "mean_1=arr_grades.mean()\n",
    "arr_new_grades=(arr_grades)*0.4+60\n",
    "mean_2=arr_new_grades.mean()\n",
    "print(\"原先平均:\",mean_1)\n",
    "print(f\"調整後平均:{mean_2:.2f}\")"
   ]
  },
  {
   "cell_type": "code",
   "execution_count": null,
   "metadata": {},
   "outputs": [],
   "source": []
  }
 ],
 "metadata": {
  "kernelspec": {
   "display_name": "Python 3",
   "language": "python",
   "name": "python3"
  },
  "language_info": {
   "codemirror_mode": {
    "name": "ipython",
    "version": 3
   },
   "file_extension": ".py",
   "mimetype": "text/x-python",
   "name": "python",
   "nbconvert_exporter": "python",
   "pygments_lexer": "ipython3",
   "version": "3.7.3"
  }
 },
 "nbformat": 4,
 "nbformat_minor": 2
}
