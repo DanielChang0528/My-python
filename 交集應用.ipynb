{
 "cells": [
  {
   "cell_type": "code",
   "execution_count": 1,
   "metadata": {},
   "outputs": [],
   "source": [
    "%matplotlib inline\n",
    "import numpy as np\n",
    "import matplotlib.pyplot as plt\n",
    "import pandas as pd"
   ]
  },
  {
   "cell_type": "code",
   "execution_count": 5,
   "metadata": {},
   "outputs": [
    {
     "name": "stdout",
     "output_type": "stream",
     "text": [
      "參加社團且沒有參加營隊的成員: {'Rocky', 'Peter'}\n",
      "參加營隊且沒有參加社團的成員: {'Amy', 'Jolin'}\n",
      "兩者皆參加者: {'David', 'Benson'}\n"
     ]
    }
   ],
   "source": [
    "club={'Rocky','Benson','Peter','David'}\n",
    "camp={'Jolin','Amy','Benson','David'}      \n",
    "club_only = club-camp\n",
    "print(\"參加社團且沒有參加營隊的成員:\",club_only)\n",
    "camp_only = camp-club\n",
    "print(\"參加營隊且沒有參加社團的成員:\",camp_only)\n",
    "both=club & camp\n",
    "print(\"兩者皆參加者:\",both)"
   ]
  },
  {
   "cell_type": "code",
   "execution_count": null,
   "metadata": {},
   "outputs": [],
   "source": []
  }
 ],
 "metadata": {
  "kernelspec": {
   "display_name": "Python 3",
   "language": "python",
   "name": "python3"
  },
  "language_info": {
   "codemirror_mode": {
    "name": "ipython",
    "version": 3
   },
   "file_extension": ".py",
   "mimetype": "text/x-python",
   "name": "python",
   "nbconvert_exporter": "python",
   "pygments_lexer": "ipython3",
   "version": "3.7.3"
  }
 },
 "nbformat": 4,
 "nbformat_minor": 2
}
