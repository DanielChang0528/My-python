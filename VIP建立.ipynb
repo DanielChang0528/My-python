{
 "cells": [
  {
   "cell_type": "code",
   "execution_count": 1,
   "metadata": {},
   "outputs": [],
   "source": [
    "%matplotlib inline\n",
    "import numpy as np\n",
    "import matplotlib.pyplot as plt\n",
    "import pandas as pd"
   ]
  },
  {
   "cell_type": "code",
   "execution_count": 5,
   "metadata": {},
   "outputs": [
    {
     "name": "stdout",
     "output_type": "stream",
     "text": [
      "建立VIP資訊系統\n",
      "請輸入ID:1032\n",
      "請輸入姓名:Jack\n",
      "請輸入電話號碼:0930875612\n",
      "{'VIP_ID': '1032', 'Name': 'Jack', 'Tel': '0930875612'} \n",
      "\n",
      "是否繼續(y/n)?輸入非y字元可結束系統:y\n",
      "建立VIP資訊系統\n",
      "請輸入ID:1033\n",
      "請輸入姓名:Peter\n",
      "請輸入電話號碼:\n",
      "{'VIP_ID': '1033', 'Name': 'Peter'} \n",
      "\n",
      "是否繼續(y/n)?輸入非y字元可結束系統:n\n",
      "歡迎下次使用\n"
     ]
    }
   ],
   "source": [
    "def build_VIP(ID,name,tel=''):\n",
    "    VIP_dict={'VIP_ID':ID,'Name':name}\n",
    "    if tel:\n",
    "        VIP_dict['Tel']=tel\n",
    "    return VIP_dict\n",
    "while True:\n",
    "    print(\"建立VIP資訊系統\")\n",
    "    i=input(\"請輸入ID:\")\n",
    "    name=input(\"請輸入姓名:\")\n",
    "    tel=input(\"請輸入電話號碼:\")\n",
    "    member=build_VIP(i,name,tel)\n",
    "    print(member,'\\n')\n",
    "    repeat=input(\"是否繼續(y/n)?輸入非y字元可結束系統:\")\n",
    "    if repeat != 'y':\n",
    "        break\n",
    "print(\"歡迎下次使用\")        "
   ]
  },
  {
   "cell_type": "code",
   "execution_count": null,
   "metadata": {},
   "outputs": [],
   "source": []
  }
 ],
 "metadata": {
  "kernelspec": {
   "display_name": "Python 3",
   "language": "python",
   "name": "python3"
  },
  "language_info": {
   "codemirror_mode": {
    "name": "ipython",
    "version": 3
   },
   "file_extension": ".py",
   "mimetype": "text/x-python",
   "name": "python",
   "nbconvert_exporter": "python",
   "pygments_lexer": "ipython3",
   "version": "3.7.3"
  }
 },
 "nbformat": 4,
 "nbformat_minor": 2
}
