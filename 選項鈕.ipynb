{
 "cells": [
  {
   "cell_type": "code",
   "execution_count": 1,
   "metadata": {},
   "outputs": [],
   "source": [
    "%matplotlib inline\n",
    "import numpy as np\n",
    "import matplotlib.pyplot as plt\n",
    "import pandas as pd"
   ]
  },
  {
   "cell_type": "code",
   "execution_count": 2,
   "metadata": {},
   "outputs": [],
   "source": [
    "from tkinter import *\n",
    "def Selection():\n",
    "    print(cars[var.get()])"
   ]
  },
  {
   "cell_type": "code",
   "execution_count": 3,
   "metadata": {},
   "outputs": [],
   "source": [
    "window=Tk()    \n",
    "window.title(\"Mercedes Benz\")\n",
    "cars={0:\"A-class\",1:\"B-class\",2:\"C-class\",3:\"E-class\",4:\"S-class\"}\n",
    "var=IntVar()\n",
    "var.set(0)\n",
    "label=Label(window,text=\"請選擇車款喜好\",fg=\"blue\",bg=\"lightyellow\",width=30).pack()"
   ]
  },
  {
   "cell_type": "code",
   "execution_count": null,
   "metadata": {},
   "outputs": [
    {
     "name": "stdout",
     "output_type": "stream",
     "text": [
      "S-class\n"
     ]
    }
   ],
   "source": [
    "for val,car in cars.items():\n",
    "    Radiobutton(window,text=car,variable=var,value=val,\n",
    "               command=Selection).pack()\n",
    "\n",
    "window.mainloop()    "
   ]
  },
  {
   "cell_type": "code",
   "execution_count": null,
   "metadata": {},
   "outputs": [],
   "source": []
  }
 ],
 "metadata": {
  "kernelspec": {
   "display_name": "Python 3",
   "language": "python",
   "name": "python3"
  },
  "language_info": {
   "codemirror_mode": {
    "name": "ipython",
    "version": 3
   },
   "file_extension": ".py",
   "mimetype": "text/x-python",
   "name": "python",
   "nbconvert_exporter": "python",
   "pygments_lexer": "ipython3",
   "version": "3.7.3"
  }
 },
 "nbformat": 4,
 "nbformat_minor": 2
}
