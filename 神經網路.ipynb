{
  "nbformat": 4,
  "nbformat_minor": 0,
  "metadata": {
    "colab": {
      "name": "神經網路",
      "provenance": [],
      "collapsed_sections": [],
      "authorship_tag": "ABX9TyORNljenKEU+aX6RmFVStTZ",
      "include_colab_link": true
    },
    "kernelspec": {
      "name": "python3",
      "display_name": "Python 3"
    }
  },
  "cells": [
    {
      "cell_type": "markdown",
      "metadata": {
        "id": "view-in-github",
        "colab_type": "text"
      },
      "source": [
        "<a href=\"https://colab.research.google.com/github/DanielChang0528/My-python/blob/master/%E7%A5%9E%E7%B6%93%E7%B6%B2%E8%B7%AF.ipynb\" target=\"_parent\"><img src=\"https://colab.research.google.com/assets/colab-badge.svg\" alt=\"Open In Colab\"/></a>"
      ]
    },
    {
      "cell_type": "code",
      "metadata": {
        "id": "4TM0fFcBHKNZ",
        "colab_type": "code",
        "colab": {}
      },
      "source": [
        "%matplotlib inline\n",
        "import numpy as np\n",
        "import matplotlib.pyplot as plt"
      ],
      "execution_count": 0,
      "outputs": []
    },
    {
      "cell_type": "code",
      "metadata": {
        "id": "wtEpLo8dHjE_",
        "colab_type": "code",
        "colab": {}
      },
      "source": [
        "import tensorflow as tf"
      ],
      "execution_count": 0,
      "outputs": []
    },
    {
      "cell_type": "code",
      "metadata": {
        "id": "gXShxqIqHlll",
        "colab_type": "code",
        "colab": {}
      },
      "source": [
        "from tensorflow.keras.datasets import fashion_mnist"
      ],
      "execution_count": 0,
      "outputs": []
    },
    {
      "cell_type": "code",
      "metadata": {
        "id": "oX2CPPufHoD5",
        "colab_type": "code",
        "outputId": "2201e781-b30b-4c20-c8c8-225010b9507b",
        "colab": {
          "base_uri": "https://localhost:8080/",
          "height": 153
        }
      },
      "source": [
        "(x_train, y_train), (x_test, y_test) = fashion_mnist.load_data()"
      ],
      "execution_count": 0,
      "outputs": [
        {
          "output_type": "stream",
          "text": [
            "Downloading data from https://storage.googleapis.com/tensorflow/tf-keras-datasets/train-labels-idx1-ubyte.gz\n",
            "32768/29515 [=================================] - 0s 0us/step\n",
            "Downloading data from https://storage.googleapis.com/tensorflow/tf-keras-datasets/train-images-idx3-ubyte.gz\n",
            "26427392/26421880 [==============================] - 0s 0us/step\n",
            "Downloading data from https://storage.googleapis.com/tensorflow/tf-keras-datasets/t10k-labels-idx1-ubyte.gz\n",
            "8192/5148 [===============================================] - 0s 0us/step\n",
            "Downloading data from https://storage.googleapis.com/tensorflow/tf-keras-datasets/t10k-images-idx3-ubyte.gz\n",
            "4423680/4422102 [==============================] - 0s 0us/step\n"
          ],
          "name": "stdout"
        }
      ]
    },
    {
      "cell_type": "code",
      "metadata": {
        "id": "yAFlHHiTHqNj",
        "colab_type": "code",
        "colab": {}
      },
      "source": [
        "class_names = ['T-shirt/top', 'Trouser', 'Pullover', 'Dress', 'Coat',\n",
        "               'Sandal', 'Shirt', 'Sneaker', 'Bag', 'Ankle boot']"
      ],
      "execution_count": 0,
      "outputs": []
    },
    {
      "cell_type": "code",
      "metadata": {
        "id": "zKmgvDAmHsf_",
        "colab_type": "code",
        "outputId": "8edcabdf-6f15-4178-865f-c923d8c1a0ca",
        "colab": {
          "base_uri": "https://localhost:8080/",
          "height": 282
        }
      },
      "source": [
        "n = 1978\n",
        "print( class_names[y_train[n]])\n",
        "plt.imshow(x_train[n], cmap='Greys');"
      ],
      "execution_count": 0,
      "outputs": [
        {
          "output_type": "stream",
          "text": [
            "Shirt\n"
          ],
          "name": "stdout"
        },
        {
          "output_type": "display_data",
          "data": {
            "image/png": "[encoded data removed]",
            "text/plain": [
              "<Figure size 432x288 with 1 Axes>"
            ]
          },
          "metadata": {
            "tags": []
          }
        }
      ]
    },
    {
      "cell_type": "code",
      "metadata": {
        "id": "jvYNS0lfHuyY",
        "colab_type": "code",
        "colab": {}
      },
      "source": [
        "x_train = x_train / 255\n",
        "x_test = x_test / 255"
      ],
      "execution_count": 0,
      "outputs": []
    },
    {
      "cell_type": "code",
      "metadata": {
        "id": "dok_mDEhHzvy",
        "colab_type": "code",
        "colab": {}
      },
      "source": [
        "x_train = x_train.reshape(60000,784)\n",
        "x_test = x_test.reshape(10000,784)"
      ],
      "execution_count": 0,
      "outputs": []
    },
    {
      "cell_type": "code",
      "metadata": {
        "id": "tgVLnm9DH1i7",
        "colab_type": "code",
        "colab": {}
      },
      "source": [
        "from tensorflow.keras.utils import to_categorical"
      ],
      "execution_count": 0,
      "outputs": []
    },
    {
      "cell_type": "code",
      "metadata": {
        "id": "Ob0ELDxfH3pk",
        "colab_type": "code",
        "colab": {}
      },
      "source": [
        "y_train = to_categorical(y_train, 10)"
      ],
      "execution_count": 0,
      "outputs": []
    },
    {
      "cell_type": "code",
      "metadata": {
        "id": "-iFQnU5kH513",
        "colab_type": "code",
        "colab": {}
      },
      "source": [
        "y_test = to_categorical(y_test, 10)"
      ],
      "execution_count": 0,
      "outputs": []
    },
    {
      "cell_type": "code",
      "metadata": {
        "id": "4hVvLjIhH7jN",
        "colab_type": "code",
        "colab": {}
      },
      "source": [
        "from tensorflow.keras.models import Sequential\n",
        "from tensorflow.keras.layers import Dense\n",
        "from tensorflow.keras.optimizers import SGD"
      ],
      "execution_count": 0,
      "outputs": []
    },
    {
      "cell_type": "code",
      "metadata": {
        "id": "mkBT6gGDH9W0",
        "colab_type": "code",
        "colab": {}
      },
      "source": [
        "model = Sequential()"
      ],
      "execution_count": 0,
      "outputs": []
    },
    {
      "cell_type": "code",
      "metadata": {
        "id": "a_LOYsFEH_4_",
        "colab_type": "code",
        "colab": {}
      },
      "source": [
        "model.add(Dense(88, input_dim = 784, activation = 'relu'))"
      ],
      "execution_count": 0,
      "outputs": []
    },
    {
      "cell_type": "code",
      "metadata": {
        "id": "-m1aG7TpIBvK",
        "colab_type": "code",
        "colab": {}
      },
      "source": [
        "model.add(Dense(821, activation = 'relu'))"
      ],
      "execution_count": 0,
      "outputs": []
    },
    {
      "cell_type": "code",
      "metadata": {
        "id": "1T8kBOvcIFQw",
        "colab_type": "code",
        "colab": {}
      },
      "source": [
        "model.add(Dense(325, activation = 'relu'))"
      ],
      "execution_count": 0,
      "outputs": []
    },
    {
      "cell_type": "code",
      "metadata": {
        "id": "53UUb5nzIKA4",
        "colab_type": "code",
        "colab": {}
      },
      "source": [
        "model.add(Dense(10, activation = 'softmax'))"
      ],
      "execution_count": 0,
      "outputs": []
    },
    {
      "cell_type": "code",
      "metadata": {
        "id": "Bm33bKPEIODw",
        "colab_type": "code",
        "colab": {}
      },
      "source": [
        "model.compile(loss = 'mse', optimizer = SGD(lr = 0.03), metrics = ['accuracy'])"
      ],
      "execution_count": 0,
      "outputs": []
    },
    {
      "cell_type": "code",
      "metadata": {
        "id": "47wTr9r2IWwc",
        "colab_type": "code",
        "outputId": "871fb5f8-4183-40f6-ec10-84a8432dd42c",
        "colab": {
          "base_uri": "https://localhost:8080/",
          "height": 289
        }
      },
      "source": [
        "model.summary()"
      ],
      "execution_count": 0,
      "outputs": [
        {
          "output_type": "stream",
          "text": [
            "Model: \"sequential\"\n",
            "_________________________________________________________________\n",
            "Layer (type)                 Output Shape              Param #   \n",
            "=================================================================\n",
            "dense (Dense)                (None, 88)                69080     \n",
            "_________________________________________________________________\n",
            "dense_1 (Dense)              (None, 821)               73069     \n",
            "_________________________________________________________________\n",
            "dense_2 (Dense)              (None, 325)               267150    \n",
            "_________________________________________________________________\n",
            "dense_3 (Dense)              (None, 10)                3260      \n",
            "=================================================================\n",
            "Total params: 412,559\n",
            "Trainable params: 412,559\n",
            "Non-trainable params: 0\n",
            "_________________________________________________________________\n"
          ],
          "name": "stdout"
        }
      ]
    },
    {
      "cell_type": "code",
      "metadata": {
        "id": "JgJX9sYjIZVt",
        "colab_type": "code",
        "outputId": "83cd567e-4cf9-41a8-bfbe-35b7f2a2c452",
        "colab": {
          "base_uri": "https://localhost:8080/",
          "height": 544
        }
      },
      "source": [
        "model.fit(x_train, y_train, batch_size=150, epochs=15)"
      ],
      "execution_count": 0,
      "outputs": [
        {
          "output_type": "stream",
          "text": [
            "Epoch 1/15\n",
            "400/400 [==============================] - 4s 10ms/step - loss: 0.0887 - accuracy: 0.1426\n",
            "Epoch 2/15\n",
            "400/400 [==============================] - 4s 10ms/step - loss: 0.0857 - accuracy: 0.3134\n",
            "Epoch 3/15\n",
            "400/400 [==============================] - 4s 11ms/step - loss: 0.0807 - accuracy: 0.4250\n",
            "Epoch 4/15\n",
            "400/400 [==============================] - 4s 10ms/step - loss: 0.0719 - accuracy: 0.5187\n",
            "Epoch 5/15\n",
            "400/400 [==============================] - 4s 10ms/step - loss: 0.0616 - accuracy: 0.6229\n",
            "Epoch 6/15\n",
            "400/400 [==============================] - 4s 10ms/step - loss: 0.0533 - accuracy: 0.6545\n",
            "Epoch 7/15\n",
            "400/400 [==============================] - 4s 10ms/step - loss: 0.0478 - accuracy: 0.6644\n",
            "Epoch 8/15\n",
            "400/400 [==============================] - 4s 10ms/step - loss: 0.0443 - accuracy: 0.6753\n",
            "Epoch 9/15\n",
            "400/400 [==============================] - 4s 10ms/step - loss: 0.0419 - accuracy: 0.6933\n",
            "Epoch 10/15\n",
            "400/400 [==============================] - 4s 10ms/step - loss: 0.0399 - accuracy: 0.7173\n",
            "Epoch 11/15\n",
            "400/400 [==============================] - 4s 10ms/step - loss: 0.0383 - accuracy: 0.7401\n",
            "Epoch 12/15\n",
            "400/400 [==============================] - 4s 10ms/step - loss: 0.0368 - accuracy: 0.7588\n",
            "Epoch 13/15\n",
            "400/400 [==============================] - 4s 10ms/step - loss: 0.0355 - accuracy: 0.7717\n",
            "Epoch 14/15\n",
            "400/400 [==============================] - 4s 10ms/step - loss: 0.0342 - accuracy: 0.7821\n",
            "Epoch 15/15\n",
            "400/400 [==============================] - 4s 10ms/step - loss: 0.0331 - accuracy: 0.7888\n"
          ],
          "name": "stdout"
        },
        {
          "output_type": "execute_result",
          "data": {
            "text/plain": [
              "<tensorflow.python.keras.callbacks.History at 0x7f7704430128>"
            ]
          },
          "metadata": {
            "tags": []
          },
          "execution_count": 20
        }
      ]
    },
    {
      "cell_type": "code",
      "metadata": {
        "id": "_wFEEhvWIbpU",
        "colab_type": "code",
        "outputId": "8f930d84-754a-4c0b-a3b5-83e3fdbb3003",
        "colab": {
          "base_uri": "https://localhost:8080/",
          "height": 88
        }
      },
      "source": [
        "result = model.predict_classes(x_test)"
      ],
      "execution_count": 0,
      "outputs": [
        {
          "output_type": "stream",
          "text": [
            "WARNING:tensorflow:From <ipython-input-21-63af5bb2f9b6>:1: Sequential.predict_classes (from tensorflow.python.keras.engine.sequential) is deprecated and will be removed after 2021-01-01.\n",
            "Instructions for updating:\n",
            "Please use instead:* `np.argmax(model.predict(x), axis=-1)`,   if your model does multi-class classification   (e.g. if it uses a `softmax` last-layer activation).* `(model.predict(x) > 0.5).astype(\"int32\")`,   if your model does binary classification   (e.g. if it uses a `sigmoid` last-layer activation).\n"
          ],
          "name": "stdout"
        }
      ]
    },
    {
      "cell_type": "code",
      "metadata": {
        "id": "GUtbXhUZIzZJ",
        "colab_type": "code",
        "outputId": "81e9dd2b-55dc-4aa1-8c85-0c9f75a2a612",
        "colab": {
          "base_uri": "https://localhost:8080/",
          "height": 162
        }
      },
      "source": [
        "for i in range(3):\n",
        "    plt.subplot(1,3,i+1)\n",
        "    plt.imshow(x_test[i].reshape(28,28), cmap='Greys')\n",
        "    plt.title(class_names[result[i]])"
      ],
      "execution_count": 0,
      "outputs": [
        {
          "output_type": "display_data",
          "data": {
            "image/png": "[encoded data removed]",
            "text/plain": [
              "<Figure size 432x288 with 3 Axes>"
            ]
          },
          "metadata": {
            "tags": []
          }
        }
      ]
    },
    {
      "cell_type": "code",
      "metadata": {
        "id": "pEmpqchpI0W8",
        "colab_type": "code",
        "colab": {}
      },
      "source": [
        ""
      ],
      "execution_count": 0,
      "outputs": []
    }
  ]
}