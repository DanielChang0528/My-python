{
 "cells": [
  {
   "cell_type": "code",
   "execution_count": 5,
   "metadata": {},
   "outputs": [
    {
     "name": "stdout",
     "output_type": "stream",
     "text": [
      "請計算下列運算式:\n",
      "365/5+20^2+5^2= ?\n",
      "Answer:52\n",
      "52 非正解\n",
      "Answer:498\n",
      "所花時間: 3 秒\n"
     ]
    }
   ],
   "source": [
    "%matplotlib inline\n",
    "import numpy as np\n",
    "import matplotlib.pyplot as plt\n",
    "import pandas as pd\n",
    "import time\n",
    "print(\"請計算下列運算式:\")\n",
    "print(\"365/5+20^2+5^2= ?\")\n",
    "x=int(input(\"Answer:\"))\n",
    "starttime=int(time.time())\n",
    "while (True):\n",
    "    if x == 498:\n",
    "        endtime=int(time.time())\n",
    "        print(\"所花時間:\",endtime - starttime,\"秒\")\n",
    "        break\n",
    "    else:\n",
    "        print(x,\"非正解\")\n",
    "        x=int(input(\"Answer:\"))"
   ]
  },
  {
   "cell_type": "code",
   "execution_count": null,
   "metadata": {},
   "outputs": [],
   "source": []
  }
 ],
 "metadata": {
  "kernelspec": {
   "display_name": "Python 3",
   "language": "python",
   "name": "python3"
  },
  "language_info": {
   "codemirror_mode": {
    "name": "ipython",
    "version": 3
   },
   "file_extension": ".py",
   "mimetype": "text/x-python",
   "name": "python",
   "nbconvert_exporter": "python",
   "pygments_lexer": "ipython3",
   "version": "3.7.3"
  }
 },
 "nbformat": 4,
 "nbformat_minor": 2
}
