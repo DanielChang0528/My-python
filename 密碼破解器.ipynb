{
 "cells": [
  {
   "cell_type": "code",
   "execution_count": 9,
   "metadata": {},
   "outputs": [
    {
     "name": "stdout",
     "output_type": "stream",
     "text": [
      "請輸入四位數字密碼:0036\n",
      "0000\n",
      "0001\n",
      "0002\n",
      "0003\n",
      "0004\n",
      "0005\n",
      "0006\n",
      "0007\n",
      "0008\n",
      "0009\n",
      "0010\n",
      "0011\n",
      "0012\n",
      "0013\n",
      "0014\n",
      "0015\n",
      "0016\n",
      "0017\n",
      "0018\n",
      "0019\n",
      "0020\n",
      "0021\n",
      "0022\n",
      "0023\n",
      "0024\n",
      "0025\n",
      "0026\n",
      "0027\n",
      "0028\n",
      "0029\n",
      "0030\n",
      "0031\n",
      "0032\n",
      "0033\n",
      "0034\n",
      "0035\n",
      "password= 0036\n"
     ]
    }
   ],
   "source": [
    "password=input(\"請輸入四位數字密碼:\")\n",
    "x=True\n",
    "for n1 in range(0,10):\n",
    "    if x:\n",
    "        for n2 in range(0,10):\n",
    "            if x:\n",
    "                for n3 in range(0,10):\n",
    "                    if x:\n",
    "                        for n4 in range(0,10):\n",
    "                            code=str(n1)+str(n2)+str(n3)+str(n4)\n",
    "                            if code==password:\n",
    "                                print(\"password=\",code)\n",
    "                                x=False\n",
    "                                break\n",
    "                            else:\n",
    "                                print(code)\n",
    "                                "
   ]
  },
  {
   "cell_type": "code",
   "execution_count": null,
   "metadata": {},
   "outputs": [],
   "source": []
  }
 ],
 "metadata": {
  "kernelspec": {
   "display_name": "Python 3",
   "language": "python",
   "name": "python3"
  },
  "language_info": {
   "codemirror_mode": {
    "name": "ipython",
    "version": 3
   },
   "file_extension": ".py",
   "mimetype": "text/x-python",
   "name": "python",
   "nbconvert_exporter": "python",
   "pygments_lexer": "ipython3",
   "version": "3.7.3"
  }
 },
 "nbformat": 4,
 "nbformat_minor": 2
}
