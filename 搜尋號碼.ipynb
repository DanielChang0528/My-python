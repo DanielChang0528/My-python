{
 "cells": [
  {
   "cell_type": "code",
   "execution_count": 1,
   "metadata": {},
   "outputs": [],
   "source": [
    "%matplotlib inline\n",
    "import numpy as np\n",
    "import matplotlib.pyplot as plt\n",
    "import pandas as pd"
   ]
  },
  {
   "cell_type": "code",
   "execution_count": 4,
   "metadata": {},
   "outputs": [
    {
     "name": "stdout",
     "output_type": "stream",
     "text": [
      "phone number:0930-388-729\n",
      "No phonenumber in it.\n",
      "phone number:0912-458-689\n"
     ]
    }
   ],
   "source": [
    "import re\n",
    "msg1='Please call 0930-388-729 to me.'\n",
    "msg2='I will always be on you.'\n",
    "msg3='If you have any question, please call 0912-458-689.'\n",
    "\n",
    "def string(i):\n",
    "    rule=re.compile(r'\\d\\d\\d\\d-\\d\\d\\d-\\d\\d\\d')\n",
    "    phonenumber=rule.search(i)\n",
    "    if phonenumber != None:\n",
    "                    print(\"phone number:%s\"%phonenumber.group())\n",
    "    else:\n",
    "         print(\"No phonenumber in it.\")\n",
    "                    \n",
    "string(msg1)\n",
    "string(msg2)\n",
    "string(msg3)                    "
   ]
  },
  {
   "cell_type": "code",
   "execution_count": null,
   "metadata": {},
   "outputs": [],
   "source": []
  }
 ],
 "metadata": {
  "kernelspec": {
   "display_name": "Python 3",
   "language": "python",
   "name": "python3"
  },
  "language_info": {
   "codemirror_mode": {
    "name": "ipython",
    "version": 3
   },
   "file_extension": ".py",
   "mimetype": "text/x-python",
   "name": "python",
   "nbconvert_exporter": "python",
   "pygments_lexer": "ipython3",
   "version": "3.7.3"
  }
 },
 "nbformat": 4,
 "nbformat_minor": 2
}
