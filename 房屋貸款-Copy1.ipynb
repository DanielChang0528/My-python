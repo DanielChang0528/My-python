{
 "cells": [
  {
   "cell_type": "code",
   "execution_count": 1,
   "metadata": {},
   "outputs": [],
   "source": [
    "%matplotlib inline\n",
    "import numpy as np\n",
    "import matplotlib.pyplot as plt\n",
    "import pandas as pd"
   ]
  },
  {
   "cell_type": "code",
   "execution_count": null,
   "metadata": {},
   "outputs": [],
   "source": [
    "loan=int(input(\"請輸入貸款金額:\"))\n",
    "year=int(input(\"請輸入年限:\"))\n",
    "rate=float(input(\"請輸入年利率:\"))\n",
    "monthrate=rate/(12*100)\n",
    "monthrate=float(monthrate)\n",
    "molecules=loan*monthrate\n",
    "molecules=int(molecules)\n",
    "denominator=1-(1/(1+monthrate)**(year*12))\n",
    "           \n",
    "monthlypay = molecules/denominator\n",
    "         \n",
    "totalpay = monthlypay*year*12\n",
    "print(\"每月還款金額\",int(monthlypay))\n",
    "print(\"總共還款金額\",int(totalpay))               \n",
    "               "
   ]
  },
  {
   "cell_type": "code",
   "execution_count": null,
   "metadata": {},
   "outputs": [],
   "source": []
  }
 ],
 "metadata": {
  "kernelspec": {
   "display_name": "Python 3",
   "language": "python",
   "name": "python3"
  },
  "language_info": {
   "codemirror_mode": {
    "name": "ipython",
    "version": 3
   },
   "file_extension": ".py",
   "mimetype": "text/x-python",
   "name": "python",
   "nbconvert_exporter": "python",
   "pygments_lexer": "ipython3",
   "version": "3.7.3"
  }
 },
 "nbformat": 4,
 "nbformat_minor": 2
}
