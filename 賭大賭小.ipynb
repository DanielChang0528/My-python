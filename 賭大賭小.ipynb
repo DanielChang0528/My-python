{
 "cells": [
  {
   "cell_type": "code",
   "execution_count": null,
   "metadata": {},
   "outputs": [
    {
     "name": "stdout",
     "output_type": "stream",
     "text": [
      "請輸入莊家贏的機率(0-100)30\n",
      "大(L or l)或小(S or s),(Q or q)結束 \n",
      "=s\n",
      "Try again!\n",
      "\n",
      "大(L or l)或小(S or s),(Q or q)結束 \n",
      "=l\n",
      "Try again!\n",
      "\n",
      "大(L or l)或小(S or s),(Q or q)結束 \n",
      "=l\n",
      "Try again!\n",
      "\n",
      "大(L or l)或小(S or s),(Q or q)結束 \n"
     ]
    }
   ],
   "source": [
    "import random\n",
    "min,max=1,100\n",
    "winpercent=int(input(\"請輸入莊家贏的機率(0-100)\"))\n",
    "while True:\n",
    "    print(\"大(L or l)或小(S or s),(Q or q)結束 \")\n",
    "    Num=input(\"=\")\n",
    "    if Num =='Q' or Num=='q':\n",
    "        break\n",
    "    num=random.randint(min,max)    \n",
    "    if num<winpercent:\n",
    "        print(\"BINGO!!!\\n\")\n",
    "        break\n",
    "    else:\n",
    "        print(\"Try again!\\n\")\n",
    "        \n"
   ]
  },
  {
   "cell_type": "code",
   "execution_count": null,
   "metadata": {},
   "outputs": [],
   "source": []
  }
 ],
 "metadata": {
  "kernelspec": {
   "display_name": "Python 3",
   "language": "python",
   "name": "python3"
  },
  "language_info": {
   "codemirror_mode": {
    "name": "ipython",
    "version": 3
   },
   "file_extension": ".py",
   "mimetype": "text/x-python",
   "name": "python",
   "nbconvert_exporter": "python",
   "pygments_lexer": "ipython3",
   "version": "3.7.3"
  }
 },
 "nbformat": 4,
 "nbformat_minor": 2
}
