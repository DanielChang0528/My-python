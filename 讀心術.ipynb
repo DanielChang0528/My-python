{
 "cells": [
  {
   "cell_type": "code",
   "execution_count": 2,
   "metadata": {},
   "outputs": [],
   "source": [
    "%matplotlib inline\n",
    "import numpy as np\n",
    "import matplotlib.pyplot as plt\n",
    "import pandas as pd"
   ]
  },
  {
   "cell_type": "code",
   "execution_count": 6,
   "metadata": {},
   "outputs": [
    {
     "name": "stdout",
     "output_type": "stream",
     "text": [
      "猜數字遊戲,請心中想一個0-7之間的數字,然後回答問題\n",
      "有沒有看到心中的數字:1,3,5,7輸入y 或 Y代表有,其他代表無:y\n",
      "y\n",
      "有沒有看到心中的數字:2,3,6,7輸入y 或 Y代表有,其他代表無:n\n",
      "有沒有看到心中的數字:4,5,6,7輸入y 或 Y代表有,其他代表無:y\n",
      "讀者心中所想數字是: 5\n"
     ]
    }
   ],
   "source": [
    "ans=0\n",
    "print(\"猜數字遊戲,請心中想一個0-7之間的數字,然後回答問題\")\n",
    "truefalse= \"輸入y 或 Y代表有,其他代表無:\"\n",
    "q1=\"有沒有看到心中的數字:1,3,5,7\"\n",
    "num= input(q1+truefalse)\n",
    "print(num)\n",
    "if num==\"y\" or num==\"Y\":\n",
    "    ans+=1\n",
    "q2=\"有沒有看到心中的數字:2,3,6,7\"\n",
    "num= input(q2+truefalse)\n",
    "if num==\"y\" or num==\"Y\":\n",
    "    ans+=2\n",
    "q3=\"有沒有看到心中的數字:4,5,6,7\" \n",
    "num= input(q3+truefalse)\n",
    "if num ==\"y\" or num==\"Y\":\n",
    "    ans+=4\n",
    "print(\"讀者心中所想數字是:\",ans)    \n",
    "    "
   ]
  },
  {
   "cell_type": "code",
   "execution_count": null,
   "metadata": {},
   "outputs": [],
   "source": []
  }
 ],
 "metadata": {
  "kernelspec": {
   "display_name": "Python 3",
   "language": "python",
   "name": "python3"
  },
  "language_info": {
   "codemirror_mode": {
    "name": "ipython",
    "version": 3
   },
   "file_extension": ".py",
   "mimetype": "text/x-python",
   "name": "python",
   "nbconvert_exporter": "python",
   "pygments_lexer": "ipython3",
   "version": "3.7.3"
  }
 },
 "nbformat": 4,
 "nbformat_minor": 2
}
